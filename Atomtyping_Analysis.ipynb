{
 "cells": [
  {
   "cell_type": "markdown",
   "metadata": {},
   "source": [
    "# Program to easily check a bunch of different molecules to see what breaks when an oplsaa.xml forcefield is applied"
   ]
  },
  {
   "cell_type": "markdown",
   "metadata": {},
   "source": [
    "Goal: Be able to Quickly build a bunch of simple structures increasing in complexity towards a target molecule, to find where the key issues are in applying a forcefield\n",
    "1. Imports\n",
    "2. Build molecules to atomtype\n",
    "3. Apply forcefield and check for issues with it\n",
    "    -Purple molecules are problem molecules\n",
    "4. Make edits to a copied version of the forcefield\n",
    "5. Check to see if you edits still atom type correctly compared to a directory of \n",
    "    already typed molecules"
   ]
  },
  {
   "cell_type": "code",
   "execution_count": 1,
   "metadata": {},
   "outputs": [],
   "source": [
    "import mbuild as mb\n",
    "import numpy as np\n",
    "import warnings\n",
    "import foyer\n",
    "import matplotlib.pyplot as plt\n",
    "from mbuild.lib.recipes import Polymer\n",
    "from mbuild.lib.moieties import Silane\n",
    "import os"
   ]
  },
  {
   "cell_type": "code",
   "execution_count": 2,
   "metadata": {},
   "outputs": [],
   "source": [
    "#import from local .py files with necessary functions\n",
    "from edit_xml import *\n",
    "from molecule_parts import *"
   ]
  },
  {
   "cell_type": "markdown",
   "metadata": {},
   "source": [
    "# 2. Build a molecule to test"
   ]
  },
  {
   "cell_type": "code",
   "execution_count": 4,
   "metadata": {
    "scrolled": true
   },
   "outputs": [
    {
     "name": "stdout",
     "output_type": "stream",
     "text": [
      "You have added an ether!\n"
     ]
    },
    {
     "data": {
      "application/3dmoljs_load.v0": "<div id=\"3dmolviewer_159552599106237\"  style=\"position: relative; width: 640px; height: 480px\">\n        <p id=\"3dmolwarning_159552599106237\" style=\"background-color:#ffcccc;color:black\">You appear to be running in JupyterLab (or JavaScript failed to load for some other reason).  You need to install the 3dmol extension: <br>\n        <tt>jupyter labextension install jupyterlab_3dmol</tt></p>\n        </div>\n<script>\n\nvar loadScriptAsync = function(uri){\n  return new Promise((resolve, reject) => {\n    var tag = document.createElement('script');\n    tag.src = uri;\n    tag.async = true;\n    tag.onload = () => {\n      resolve();\n    };\n  var firstScriptTag = document.getElementsByTagName('script')[0];\n  firstScriptTag.parentNode.insertBefore(tag, firstScriptTag);\n});\n};\n\nif(typeof $3Dmolpromise === 'undefined') {\n$3Dmolpromise = null;\n  $3Dmolpromise = loadScriptAsync('https://3dmol.csb.pitt.edu/build/3Dmol.js');\n}\n\nvar viewer_159552599106237 = null;\nvar warn = document.getElementById(\"3dmolwarning_159552599106237\");\nif(warn) {\n    warn.parentNode.removeChild(warn);\n}\n$3Dmolpromise.then(function() {\nviewer_159552599106237 = $3Dmol.createViewer($(\"#3dmolviewer_159552599106237\"),{backgroundColor:\"white\"});\n\tviewer_159552599106237.addModel(\"@<TRIPOS>MOLECULE\\nRES\\n33 32 1 0 1\\nSMALL\\nNO_CHARGES\\n@<TRIPOS>CRYSIN\\n    9.1190    17.8600     6.7950    90.0000    90.0000    90.0000  1  1\\n@<TRIPOS>ATOM\\n       1 H           -0.0000     0.9700    -0.0000 H             1 RES     \\n       2 O            0.0000     0.0000     0.0000 O             1 RES     \\n       3 Si          -0.0000    -1.1850     0.0000 Si            1 RES     \\n       4 O           -1.3073    -1.1850     0.0000 O             1 RES     \\n       5 H           -1.6345    -1.2166    -0.6710 H             1 RES     \\n       6 O            1.4502    -1.3359     0.0000 O             1 RES     \\n       7 H            1.8179    -1.2533     0.8020 H             1 RES     \\n       8 C           -0.0000    -2.5850     0.0000 C             1 RES     \\n       9 H            1.1000    -2.5850     0.0000 H             1 RES     \\n      10 H           -1.1000    -2.5850    -0.0000 H             1 RES     \\n      11 C           -0.0000    -3.9850     0.0000 C             1 RES     \\n      12 H            1.1000    -3.9850     0.0000 H             1 RES     \\n      13 H           -1.1000    -3.9850    -0.0000 H             1 RES     \\n      14 C           -0.0000    -5.3850     0.0000 C             1 RES     \\n      15 H            1.1000    -5.3850     0.0000 H             1 RES     \\n      16 H           -1.1000    -5.3850    -0.0000 H             1 RES     \\n      17 C           -0.0000    -6.7850     0.0000 C             1 RES     \\n      18 H            1.1000    -6.7850     0.0000 H             1 RES     \\n      19 H           -1.1000    -6.7850     0.0000 H             1 RES     \\n      20 O           -0.0000    -8.1850     0.0000 O             1 RES     \\n      21 C           -0.0000    -9.5850     0.0000 C             1 RES     \\n      22 H            1.1000    -9.5850     0.0000 H             1 RES     \\n      23 C           -1.2500    -9.5850     0.0000 C             1 RES     \\n      24 O           -1.8700    -8.5111    -0.0000 O             1 RES     \\n      25 O           -1.9500   -10.7974     0.0000 O             1 RES     \\n      26 H           -1.4650   -11.6375     0.0000 H             1 RES     \\n      27 C           -0.0000   -10.8200     0.0000 C             1 RES     \\n      28 H           -0.7690   -11.1770     0.6530 H             1 RES     \\n      29 H           -0.1810   -11.1770    -0.9930 H             1 RES     \\n      30 C            1.4000   -10.8200     0.0000 C             1 RES     \\n      31 H            1.4000   -11.8900     0.0000 H             1 RES     \\n      32 H            2.1690   -10.4630     0.6530 H             1 RES     \\n      33 H            1.5810   -10.4630    -0.9930 H             1 RES     \\n@<TRIPOS>BOND\\n       1       30       31 1\\n       2       33       30 1\\n       3       11       13 1\\n       4       27       29 1\\n       5       14       16 1\\n       6        3        6 1\\n       7        3        8 1\\n       8       23       24 1\\n       9       17       20 1\\n      10       14       17 1\\n      11       23       25 1\\n      12       32       30 1\\n      13        2        3 1\\n      14       25       26 1\\n      15       22       21 1\\n      16       17       18 1\\n      17        3        4 1\\n      18       14       15 1\\n      19       17       19 1\\n      20        8       10 1\\n      21       11       14 1\\n      22        6        7 1\\n      23       27       21 1\\n      24       23       21 1\\n      25       11       12 1\\n      26        1        2 1\\n      27        8       11 1\\n      28       27       30 1\\n      29        8        9 1\\n      30       21       20 1\\n      31       27       28 1\\n      32        4        5 1\\n@<TRIPOS>SUBSTRUCTURE\\n       1 RES             1 RESIDUE    0 **** ROOT      0\\n\",\"mol2\");\n\tviewer_159552599106237.setStyle({\"stick\": {\"radius\": 0.2, \"color\": \"grey\"}, \"sphere\": {\"scale\": 0.3, \"colorscheme\": {}}});\n\tviewer_159552599106237.zoomTo();\nviewer_159552599106237.render();\n});\n</script>",
      "text/html": [
       "<div id=\"3dmolviewer_159552599106237\"  style=\"position: relative; width: 640px; height: 480px\">\n",
       "        <p id=\"3dmolwarning_159552599106237\" style=\"background-color:#ffcccc;color:black\">You appear to be running in JupyterLab (or JavaScript failed to load for some other reason).  You need to install the 3dmol extension: <br>\n",
       "        <tt>jupyter labextension install jupyterlab_3dmol</tt></p>\n",
       "        </div>\n",
       "<script>\n",
       "\n",
       "var loadScriptAsync = function(uri){\n",
       "  return new Promise((resolve, reject) => {\n",
       "    var tag = document.createElement('script');\n",
       "    tag.src = uri;\n",
       "    tag.async = true;\n",
       "    tag.onload = () => {\n",
       "      resolve();\n",
       "    };\n",
       "  var firstScriptTag = document.getElementsByTagName('script')[0];\n",
       "  firstScriptTag.parentNode.insertBefore(tag, firstScriptTag);\n",
       "});\n",
       "};\n",
       "\n",
       "if(typeof $3Dmolpromise === 'undefined') {\n",
       "$3Dmolpromise = null;\n",
       "  $3Dmolpromise = loadScriptAsync('https://3dmol.csb.pitt.edu/build/3Dmol.js');\n",
       "}\n",
       "\n",
       "var viewer_159552599106237 = null;\n",
       "var warn = document.getElementById(\"3dmolwarning_159552599106237\");\n",
       "if(warn) {\n",
       "    warn.parentNode.removeChild(warn);\n",
       "}\n",
       "$3Dmolpromise.then(function() {\n",
       "viewer_159552599106237 = $3Dmol.createViewer($(\"#3dmolviewer_159552599106237\"),{backgroundColor:\"white\"});\n",
       "\tviewer_159552599106237.addModel(\"@<TRIPOS>MOLECULE\\nRES\\n33 32 1 0 1\\nSMALL\\nNO_CHARGES\\n@<TRIPOS>CRYSIN\\n    9.1190    17.8600     6.7950    90.0000    90.0000    90.0000  1  1\\n@<TRIPOS>ATOM\\n       1 H           -0.0000     0.9700    -0.0000 H             1 RES     \\n       2 O            0.0000     0.0000     0.0000 O             1 RES     \\n       3 Si          -0.0000    -1.1850     0.0000 Si            1 RES     \\n       4 O           -1.3073    -1.1850     0.0000 O             1 RES     \\n       5 H           -1.6345    -1.2166    -0.6710 H             1 RES     \\n       6 O            1.4502    -1.3359     0.0000 O             1 RES     \\n       7 H            1.8179    -1.2533     0.8020 H             1 RES     \\n       8 C           -0.0000    -2.5850     0.0000 C             1 RES     \\n       9 H            1.1000    -2.5850     0.0000 H             1 RES     \\n      10 H           -1.1000    -2.5850    -0.0000 H             1 RES     \\n      11 C           -0.0000    -3.9850     0.0000 C             1 RES     \\n      12 H            1.1000    -3.9850     0.0000 H             1 RES     \\n      13 H           -1.1000    -3.9850    -0.0000 H             1 RES     \\n      14 C           -0.0000    -5.3850     0.0000 C             1 RES     \\n      15 H            1.1000    -5.3850     0.0000 H             1 RES     \\n      16 H           -1.1000    -5.3850    -0.0000 H             1 RES     \\n      17 C           -0.0000    -6.7850     0.0000 C             1 RES     \\n      18 H            1.1000    -6.7850     0.0000 H             1 RES     \\n      19 H           -1.1000    -6.7850     0.0000 H             1 RES     \\n      20 O           -0.0000    -8.1850     0.0000 O             1 RES     \\n      21 C           -0.0000    -9.5850     0.0000 C             1 RES     \\n      22 H            1.1000    -9.5850     0.0000 H             1 RES     \\n      23 C           -1.2500    -9.5850     0.0000 C             1 RES     \\n      24 O           -1.8700    -8.5111    -0.0000 O             1 RES     \\n      25 O           -1.9500   -10.7974     0.0000 O             1 RES     \\n      26 H           -1.4650   -11.6375     0.0000 H             1 RES     \\n      27 C           -0.0000   -10.8200     0.0000 C             1 RES     \\n      28 H           -0.7690   -11.1770     0.6530 H             1 RES     \\n      29 H           -0.1810   -11.1770    -0.9930 H             1 RES     \\n      30 C            1.4000   -10.8200     0.0000 C             1 RES     \\n      31 H            1.4000   -11.8900     0.0000 H             1 RES     \\n      32 H            2.1690   -10.4630     0.6530 H             1 RES     \\n      33 H            1.5810   -10.4630    -0.9930 H             1 RES     \\n@<TRIPOS>BOND\\n       1       30       31 1\\n       2       33       30 1\\n       3       11       13 1\\n       4       27       29 1\\n       5       14       16 1\\n       6        3        6 1\\n       7        3        8 1\\n       8       23       24 1\\n       9       17       20 1\\n      10       14       17 1\\n      11       23       25 1\\n      12       32       30 1\\n      13        2        3 1\\n      14       25       26 1\\n      15       22       21 1\\n      16       17       18 1\\n      17        3        4 1\\n      18       14       15 1\\n      19       17       19 1\\n      20        8       10 1\\n      21       11       14 1\\n      22        6        7 1\\n      23       27       21 1\\n      24       23       21 1\\n      25       11       12 1\\n      26        1        2 1\\n      27        8       11 1\\n      28       27       30 1\\n      29        8        9 1\\n      30       21       20 1\\n      31       27       28 1\\n      32        4        5 1\\n@<TRIPOS>SUBSTRUCTURE\\n       1 RES             1 RESIDUE    0 **** ROOT      0\\n\",\"mol2\");\n",
       "\tviewer_159552599106237.setStyle({\"stick\": {\"radius\": 0.2, \"color\": \"grey\"}, \"sphere\": {\"scale\": 0.3, \"colorscheme\": {}}});\n",
       "\tviewer_159552599106237.zoomTo();\n",
       "viewer_159552599106237.render();\n",
       "});\n",
       "</script>"
      ]
     },
     "metadata": {},
     "output_type": "display_data"
    },
    {
     "data": {
      "text/plain": [
       "<py3Dmol.view at 0x1311d9b00>"
      ]
     },
     "execution_count": 4,
     "metadata": {},
     "output_type": "execute_result"
    }
   ],
   "source": [
    "molecule=FunctionalizedAlkylSilane(6,1,2,carbonyl_bool=True,chain_group='ether')\n",
    "#molecule=Polymer(mb.lib.moieties.CH2(),6)\n",
    "capped=H_Cap(molecule)\n",
    "capped.visualize(show_ports=True)"
   ]
  },
  {
   "cell_type": "markdown",
   "metadata": {},
   "source": [
    "# 3. Apply a forcefield and check if its missing atoms"
   ]
  },
  {
   "cell_type": "code",
   "execution_count": 5,
   "metadata": {},
   "outputs": [
    {
     "name": "stderr",
     "output_type": "stream",
     "text": [
      "/Users/calcraven/Documents/Vanderbilt/Research/Force_Field_Edits/foyer/foyer/forcefield.py:473: UserWarning: Non-atomistic element type detected. Creating custom element for _EP\n",
      "  'Creating custom element for {}'.format(element))\n",
      "/Users/calcraven/Documents/Vanderbilt/Research/Force_Field_Edits/foyer/foyer/forcefield.py:449: UserWarning: No force field version number found in force field XML file.\n",
      "  'No force field version number found in force field XML file.'\n",
      "/Users/calcraven/Documents/Vanderbilt/Research/Force_Field_Edits/foyer/foyer/forcefield.py:461: UserWarning: No force field name found in force field XML file.\n",
      "  'No force field name found in force field XML file.'\n",
      "/Users/calcraven/Documents/Vanderbilt/Research/Force_Field_Edits/foyer/foyer/validator.py:132: ValidationWarning: You have empty smart definition(s)\n",
      "  warn(\"You have empty smart definition(s)\", ValidationWarning)\n"
     ]
    },
    {
     "name": "stdout",
     "output_type": "stream",
     "text": [
      "0 opls_1006\n",
      "1 opls_1005\n",
      "2 opls_1003\n",
      "3 opls_1005\n",
      "4 opls_1006\n",
      "5 opls_1005\n",
      "6 opls_1006\n",
      "7 opls_1004\n",
      "8 opls_140\n",
      "9 opls_140\n",
      "10 opls_136\n",
      "11 opls_140\n",
      "12 opls_140\n",
      "13 opls_136\n",
      "14 opls_140\n",
      "15 opls_140\n",
      "16 opls_182\n",
      "17 opls_185\n",
      "18 opls_185\n",
      "19 opls_180\n",
      "20 opls_183\n",
      "21 opls_185\n",
      "22 opls_267\n",
      "23 opls_269\n",
      "24 opls_268\n",
      "25 opls_270\n",
      "26 opls_136\n",
      "27 opls_140\n",
      "28 opls_140\n",
      "29 opls_135\n",
      "30 opls_140\n",
      "31 opls_140\n",
      "32 opls_140\n"
     ]
    },
    {
     "name": "stderr",
     "output_type": "stream",
     "text": [
      "/Users/calcraven/Documents/Vanderbilt/Research/Force_Field_Edits/foyer/foyer/forcefield.py:267: UserWarning: Parameters have not been assigned to all impropers. Total system impropers: 33, Parameterized impropers: 1. Note that if your system contains torsions of Ryckaert-Bellemans functional form, all of these torsions are processed as propers\n",
      "  warnings.warn(msg)\n",
      "/Users/calcraven/Documents/Vanderbilt/Research/Force_Field_Edits/foyer/foyer/forcefield.py:664: UserWarning: Parametrized structure has non-zero charge.Structure's total charge: -0.05000000000000021\n",
      "  \"Structure's total charge: {}\".format(total_charge))\n"
     ]
    },
    {
     "data": {
      "application/3dmoljs_load.v0": "<div id=\"3dmolviewer_1595525994138558\"  style=\"position: relative; width: 640px; height: 480px\">\n        <p id=\"3dmolwarning_1595525994138558\" style=\"background-color:#ffcccc;color:black\">You appear to be running in JupyterLab (or JavaScript failed to load for some other reason).  You need to install the 3dmol extension: <br>\n        <tt>jupyter labextension install jupyterlab_3dmol</tt></p>\n        </div>\n<script>\n\nvar loadScriptAsync = function(uri){\n  return new Promise((resolve, reject) => {\n    var tag = document.createElement('script');\n    tag.src = uri;\n    tag.async = true;\n    tag.onload = () => {\n      resolve();\n    };\n  var firstScriptTag = document.getElementsByTagName('script')[0];\n  firstScriptTag.parentNode.insertBefore(tag, firstScriptTag);\n});\n};\n\nif(typeof $3Dmolpromise === 'undefined') {\n$3Dmolpromise = null;\n  $3Dmolpromise = loadScriptAsync('https://3dmol.csb.pitt.edu/build/3Dmol.js');\n}\n\nvar viewer_1595525994138558 = null;\nvar warn = document.getElementById(\"3dmolwarning_1595525994138558\");\nif(warn) {\n    warn.parentNode.removeChild(warn);\n}\n$3Dmolpromise.then(function() {\nviewer_1595525994138558 = $3Dmol.createViewer($(\"#3dmolviewer_1595525994138558\"),{backgroundColor:\"white\"});\n\tviewer_1595525994138558.addModel(\"@<TRIPOS>MOLECULE\\nRES\\n33 32 1 0 1\\nSMALL\\nNO_CHARGES\\n@<TRIPOS>CRYSIN\\n    9.1190    17.8600     6.7950    90.0000    90.0000    90.0000  1  1\\n@<TRIPOS>ATOM\\n       1 H           -0.0000     0.9700    -0.0000 H             1 RES     \\n       2 O            0.0000     0.0000     0.0000 O             1 RES     \\n       3 Si          -0.0000    -1.1850     0.0000 Si            1 RES     \\n       4 O           -1.3073    -1.1850     0.0000 O             1 RES     \\n       5 H           -1.6345    -1.2166    -0.6710 H             1 RES     \\n       6 O            1.4502    -1.3359     0.0000 O             1 RES     \\n       7 H            1.8179    -1.2533     0.8020 H             1 RES     \\n       8 C           -0.0000    -2.5850     0.0000 C             1 RES     \\n       9 H            1.1000    -2.5850     0.0000 H             1 RES     \\n      10 H           -1.1000    -2.5850    -0.0000 H             1 RES     \\n      11 C           -0.0000    -3.9850     0.0000 C             1 RES     \\n      12 H            1.1000    -3.9850     0.0000 H             1 RES     \\n      13 H           -1.1000    -3.9850    -0.0000 H             1 RES     \\n      14 C           -0.0000    -5.3850     0.0000 C             1 RES     \\n      15 H            1.1000    -5.3850     0.0000 H             1 RES     \\n      16 H           -1.1000    -5.3850    -0.0000 H             1 RES     \\n      17 C           -0.0000    -6.7850     0.0000 C             1 RES     \\n      18 H            1.1000    -6.7850     0.0000 H             1 RES     \\n      19 H           -1.1000    -6.7850     0.0000 H             1 RES     \\n      20 O           -0.0000    -8.1850     0.0000 O             1 RES     \\n      21 C           -0.0000    -9.5850     0.0000 C             1 RES     \\n      22 H            1.1000    -9.5850     0.0000 H             1 RES     \\n      23 C           -1.2500    -9.5850     0.0000 C             1 RES     \\n      24 O           -1.8700    -8.5111    -0.0000 O             1 RES     \\n      25 O           -1.9500   -10.7974     0.0000 O             1 RES     \\n      26 H           -1.4650   -11.6375     0.0000 H             1 RES     \\n      27 C           -0.0000   -10.8200     0.0000 C             1 RES     \\n      28 H           -0.7690   -11.1770     0.6530 H             1 RES     \\n      29 H           -0.1810   -11.1770    -0.9930 H             1 RES     \\n      30 C            1.4000   -10.8200     0.0000 C             1 RES     \\n      31 H            1.4000   -11.8900     0.0000 H             1 RES     \\n      32 H            2.1690   -10.4630     0.6530 H             1 RES     \\n      33 H            1.5810   -10.4630    -0.9930 H             1 RES     \\n@<TRIPOS>BOND\\n       1       17       19 1\\n       2       21       22 1\\n       3       32       30 1\\n       4       11       13 1\\n       5       15       14 1\\n       6       11       12 1\\n       7        8        3 1\\n       8       23       24 1\\n       9        9        8 1\\n      10       11        8 1\\n      11        6        3 1\\n      12       23       25 1\\n      13       31       30 1\\n      14       17       14 1\\n      15       17       18 1\\n      16       29       27 1\\n      17       26       25 1\\n      18        1        2 1\\n      19        4        3 1\\n      20       21       20 1\\n      21       16       14 1\\n      22       27       30 1\\n      23       27       28 1\\n      24       33       30 1\\n      25       17       20 1\\n      26        2        3 1\\n      27       11       14 1\\n      28        8       10 1\\n      29       23       21 1\\n      30       27       21 1\\n      31        7        6 1\\n      32        5        4 1\\n@<TRIPOS>SUBSTRUCTURE\\n       1 RES             1 RESIDUE    0 **** ROOT      0\\n\",\"mol2\");\n\tviewer_1595525994138558.setStyle({\"stick\": {\"radius\": 0.2, \"color\": \"grey\"}, \"sphere\": {\"scale\": 0.3, \"colorscheme\": {}}});\n\tviewer_1595525994138558.zoomTo();\nviewer_1595525994138558.render();\n});\n</script>",
      "text/html": [
       "<div id=\"3dmolviewer_1595525994138558\"  style=\"position: relative; width: 640px; height: 480px\">\n",
       "        <p id=\"3dmolwarning_1595525994138558\" style=\"background-color:#ffcccc;color:black\">You appear to be running in JupyterLab (or JavaScript failed to load for some other reason).  You need to install the 3dmol extension: <br>\n",
       "        <tt>jupyter labextension install jupyterlab_3dmol</tt></p>\n",
       "        </div>\n",
       "<script>\n",
       "\n",
       "var loadScriptAsync = function(uri){\n",
       "  return new Promise((resolve, reject) => {\n",
       "    var tag = document.createElement('script');\n",
       "    tag.src = uri;\n",
       "    tag.async = true;\n",
       "    tag.onload = () => {\n",
       "      resolve();\n",
       "    };\n",
       "  var firstScriptTag = document.getElementsByTagName('script')[0];\n",
       "  firstScriptTag.parentNode.insertBefore(tag, firstScriptTag);\n",
       "});\n",
       "};\n",
       "\n",
       "if(typeof $3Dmolpromise === 'undefined') {\n",
       "$3Dmolpromise = null;\n",
       "  $3Dmolpromise = loadScriptAsync('https://3dmol.csb.pitt.edu/build/3Dmol.js');\n",
       "}\n",
       "\n",
       "var viewer_1595525994138558 = null;\n",
       "var warn = document.getElementById(\"3dmolwarning_1595525994138558\");\n",
       "if(warn) {\n",
       "    warn.parentNode.removeChild(warn);\n",
       "}\n",
       "$3Dmolpromise.then(function() {\n",
       "viewer_1595525994138558 = $3Dmol.createViewer($(\"#3dmolviewer_1595525994138558\"),{backgroundColor:\"white\"});\n",
       "\tviewer_1595525994138558.addModel(\"@<TRIPOS>MOLECULE\\nRES\\n33 32 1 0 1\\nSMALL\\nNO_CHARGES\\n@<TRIPOS>CRYSIN\\n    9.1190    17.8600     6.7950    90.0000    90.0000    90.0000  1  1\\n@<TRIPOS>ATOM\\n       1 H           -0.0000     0.9700    -0.0000 H             1 RES     \\n       2 O            0.0000     0.0000     0.0000 O             1 RES     \\n       3 Si          -0.0000    -1.1850     0.0000 Si            1 RES     \\n       4 O           -1.3073    -1.1850     0.0000 O             1 RES     \\n       5 H           -1.6345    -1.2166    -0.6710 H             1 RES     \\n       6 O            1.4502    -1.3359     0.0000 O             1 RES     \\n       7 H            1.8179    -1.2533     0.8020 H             1 RES     \\n       8 C           -0.0000    -2.5850     0.0000 C             1 RES     \\n       9 H            1.1000    -2.5850     0.0000 H             1 RES     \\n      10 H           -1.1000    -2.5850    -0.0000 H             1 RES     \\n      11 C           -0.0000    -3.9850     0.0000 C             1 RES     \\n      12 H            1.1000    -3.9850     0.0000 H             1 RES     \\n      13 H           -1.1000    -3.9850    -0.0000 H             1 RES     \\n      14 C           -0.0000    -5.3850     0.0000 C             1 RES     \\n      15 H            1.1000    -5.3850     0.0000 H             1 RES     \\n      16 H           -1.1000    -5.3850    -0.0000 H             1 RES     \\n      17 C           -0.0000    -6.7850     0.0000 C             1 RES     \\n      18 H            1.1000    -6.7850     0.0000 H             1 RES     \\n      19 H           -1.1000    -6.7850     0.0000 H             1 RES     \\n      20 O           -0.0000    -8.1850     0.0000 O             1 RES     \\n      21 C           -0.0000    -9.5850     0.0000 C             1 RES     \\n      22 H            1.1000    -9.5850     0.0000 H             1 RES     \\n      23 C           -1.2500    -9.5850     0.0000 C             1 RES     \\n      24 O           -1.8700    -8.5111    -0.0000 O             1 RES     \\n      25 O           -1.9500   -10.7974     0.0000 O             1 RES     \\n      26 H           -1.4650   -11.6375     0.0000 H             1 RES     \\n      27 C           -0.0000   -10.8200     0.0000 C             1 RES     \\n      28 H           -0.7690   -11.1770     0.6530 H             1 RES     \\n      29 H           -0.1810   -11.1770    -0.9930 H             1 RES     \\n      30 C            1.4000   -10.8200     0.0000 C             1 RES     \\n      31 H            1.4000   -11.8900     0.0000 H             1 RES     \\n      32 H            2.1690   -10.4630     0.6530 H             1 RES     \\n      33 H            1.5810   -10.4630    -0.9930 H             1 RES     \\n@<TRIPOS>BOND\\n       1       17       19 1\\n       2       21       22 1\\n       3       32       30 1\\n       4       11       13 1\\n       5       15       14 1\\n       6       11       12 1\\n       7        8        3 1\\n       8       23       24 1\\n       9        9        8 1\\n      10       11        8 1\\n      11        6        3 1\\n      12       23       25 1\\n      13       31       30 1\\n      14       17       14 1\\n      15       17       18 1\\n      16       29       27 1\\n      17       26       25 1\\n      18        1        2 1\\n      19        4        3 1\\n      20       21       20 1\\n      21       16       14 1\\n      22       27       30 1\\n      23       27       28 1\\n      24       33       30 1\\n      25       17       20 1\\n      26        2        3 1\\n      27       11       14 1\\n      28        8       10 1\\n      29       23       21 1\\n      30       27       21 1\\n      31        7        6 1\\n      32        5        4 1\\n@<TRIPOS>SUBSTRUCTURE\\n       1 RES             1 RESIDUE    0 **** ROOT      0\\n\",\"mol2\");\n",
       "\tviewer_1595525994138558.setStyle({\"stick\": {\"radius\": 0.2, \"color\": \"grey\"}, \"sphere\": {\"scale\": 0.3, \"colorscheme\": {}}});\n",
       "\tviewer_1595525994138558.zoomTo();\n",
       "viewer_1595525994138558.render();\n",
       "});\n",
       "</script>"
      ]
     },
     "metadata": {},
     "output_type": "display_data"
    },
    {
     "data": {
      "text/plain": [
       "<py3Dmol.view at 0x1311ee438>"
      ]
     },
     "execution_count": 5,
     "metadata": {},
     "output_type": "execute_result"
    }
   ],
   "source": [
    "#list types will list out the atom id for each type, and verbose will let you know about missing \n",
    "#dihedrals, impropers, and angles\n",
    "Check_Forcefield(capped,\"../switchable_interfaces/atools/atools/forcefields/edited.xml\",\n",
    "                 list_types=True,verbose=True)"
   ]
  },
  {
   "cell_type": "markdown",
   "metadata": {},
   "source": [
    "# 3. Make edits directly to an xml "
   ]
  },
  {
   "cell_type": "code",
   "execution_count": null,
   "metadata": {},
   "outputs": [],
   "source": [
    "#From Foyer opls.xml\n",
    "#<Type name=\"opls_183\" class=\"CT\" element=\"C\" mass=\"12.011\" def=\"[C;X4]([O;%opls_180])(C)(C)H\" \n",
    "#desc = \"Central Carbon in Isopropyl group attached to Oxygen in ether\" doi=\"10.1021/ja9621760\"/>"
   ]
  },
  {
   "cell_type": "code",
   "execution_count": 5,
   "metadata": {},
   "outputs": [
    {
     "name": "stdout",
     "output_type": "stream",
     "text": [
      "edited.xml has been modified.\n"
     ]
    }
   ],
   "source": [
    "path = \"../switchable_interfaces/atools/atools/forcefields/\"\n",
    "filename = \"edited.xml\"\n",
    "modify_type = 'AtomType' #could be AtomType, Bond, Angle Proper\n",
    "name = 'opls_183'\n",
    "clas = 'CT'\n",
    "element = 'C'\n",
    "mass = '12.011'\n",
    "smarts = '[C;X4]([O;%opls_180])(C)(C)H'\n",
    "desc = 'Central Carbon in Isopropyl group attached to Oxygen in ether'\n",
    "doi = '10.1021/ja9621760'\n",
    "overrides = ''\n",
    "#Overwrite false will cause a file named #backup_FILENAME to be created\n",
    "Edit_xml_AtomType(path,filename,name,clas,element,mass,smarts,desc,doi,overrides,overwrite=True)"
   ]
  },
  {
   "cell_type": "code",
   "execution_count": 3,
   "metadata": {},
   "outputs": [
    {
     "name": "stdout",
     "output_type": "stream",
     "text": [
      "edited.xml has been modified.\n"
     ]
    }
   ],
   "source": [
    "#  OH     CT     CT     OS      3      9.03534  -9.03534   \n",
    "#0.00000   0.00000   0.00000   0.00000 ; hexopyranoses\n",
    "path = \"../switchable_interfaces/atools/atools/forcefields/\"\n",
    "filename = \"edited.xml\"\n",
    "class1 = 'OS' #could be AtomType, Bond, Angle Proper\n",
    "class2 = 'CT'\n",
    "class3 = 'C'\n",
    "class4 = 'OH'\n",
    "c0 = '9.03534'\n",
    "c1 = '-9.03534'\n",
    "c2 = '0.0'\n",
    "c3 = '0.0'\n",
    "c4 = '0.0'\n",
    "c5 = '0.0'\n",
    "\n",
    "Edit_xml_Dihedral(path,filename,class1,class2,class3,class4,c0,c1,c2,c3,c4,c5,overwrite=True)"
   ]
  },
  {
   "cell_type": "markdown",
   "metadata": {},
   "source": [
    "# 4. Verify Changes are viable"
   ]
  },
  {
   "cell_type": "code",
   "execution_count": 8,
   "metadata": {},
   "outputs": [
    {
     "name": "stderr",
     "output_type": "stream",
     "text": [
      "/Users/calcraven/miniconda3/envs/modfoyer36/lib/python3.6/site-packages/pandas/io/parsers.py:2420: FutureWarning: split() requires a non-empty pattern match.\n",
      "  yield pat.split(line.strip())\n",
      "/Users/calcraven/miniconda3/envs/modfoyer36/lib/python3.6/site-packages/pandas/io/parsers.py:2423: FutureWarning: split() requires a non-empty pattern match.\n",
      "  yield pat.split(line.strip())\n",
      "/Users/calcraven/Documents/Vanderbilt/Research/Force_Field_Edits/foyer/foyer/forcefield.py:267: UserWarning: Parameters have not been assigned to all impropers. Total system impropers: 24, Parameterized impropers: 0. Note that if your system contains torsions of Ryckaert-Bellemans functional form, all of these torsions are processed as propers\n",
      "  warnings.warn(msg)\n"
     ]
    },
    {
     "name": "stdout",
     "output_type": "stream",
     "text": [
      "test_molecules/hexane Passed\n"
     ]
    },
    {
     "name": "stderr",
     "output_type": "stream",
     "text": [
      "/Users/calcraven/Documents/Vanderbilt/Research/Force_Field_Edits/foyer/foyer/forcefield.py:267: UserWarning: Parameters have not been assigned to all impropers. Total system impropers: 28, Parameterized impropers: 0. Note that if your system contains torsions of Ryckaert-Bellemans functional form, all of these torsions are processed as propers\n",
      "  warnings.warn(msg)\n",
      "/Users/calcraven/Documents/Vanderbilt/Research/Force_Field_Edits/foyer/foyer/forcefield.py:664: UserWarning: Parametrized structure has non-zero charge.Structure's total charge: -0.050000000000000155\n",
      "  \"Structure's total charge: {}\".format(total_charge))\n"
     ]
    },
    {
     "name": "stdout",
     "output_type": "stream",
     "text": [
      "test_molecules/alkylsilane Passed\n",
      "test_molecules/methane Passed\n"
     ]
    },
    {
     "name": "stderr",
     "output_type": "stream",
     "text": [
      "/Users/calcraven/Documents/Vanderbilt/Research/Force_Field_Edits/foyer/foyer/forcefield.py:267: UserWarning: Parameters have not been assigned to all impropers. Total system impropers: 4, Parameterized impropers: 0. Note that if your system contains torsions of Ryckaert-Bellemans functional form, all of these torsions are processed as propers\n",
      "  warnings.warn(msg)\n"
     ]
    }
   ],
   "source": [
    "xmlpath = \"../switchable_interfaces/atools/atools/forcefields/edited.xml\"\n",
    "moleculedir = 'test_molecules'\n",
    "Check_Standard_Molecules(xmlpath,moleculedir)\n",
    "\n"
   ]
  },
  {
   "cell_type": "markdown",
   "metadata": {},
   "source": [
    "# inputs necessary for editing an oplsaa xml\n",
    "forcefield_path = \"../switchable_interfaces/atools/atools/forcefields/testV_oplsaa.xml\"\n",
    "name = \n",
    "clas = \n",
    "element = \n",
    "mass = \n",
    "definition = \n",
    "desc = \n",
    "doi = \n",
    "overrides = \n",
    "charge = \n",
    "sigma = \n",
    "epsilon = \n",
    "bondclass1 = \n",
    "bondclass2 = \n",
    "length = \n",
    "k = \n",
    "angleclass1 =\n",
    "angleclass2 = \n",
    "angleclass3 =\n",
    "angle = \n",
    "k = \n",
    "properclass1 = \n",
    "properclass2 = \n",
    "properclass3 = \n",
    "properclass4 = \n",
    "c0 = \n",
    "c1 = \n",
    "c2 = \n",
    "c3 = \n",
    "c4 = \n",
    "c5 = \n",
    "\n",
    "    "
   ]
  },
  {
   "cell_type": "code",
   "execution_count": 7,
   "metadata": {},
   "outputs": [
    {
     "name": "stdout",
     "output_type": "stream",
     "text": [
      "Help on method apply in module foyer.forcefield:\n",
      "\n",
      "apply(structure, references_file=None, use_residue_map=True, assert_bond_params=True, assert_angle_params=True, assert_dihedral_params=True, assert_improper_params=False, combining_rule='geometric', verbose=False, *args, **kwargs) method of foyer.forcefield.Forcefield instance\n",
      "    Apply the force field to a molecular structure\n",
      "    \n",
      "    Parameters\n",
      "    ----------\n",
      "    structure : parmed.Structure or mbuild.Compound\n",
      "        Molecular structure to apply the force field to\n",
      "    references_file : str, optional, default=None\n",
      "        Name of file where force field references will be written (in Bibtex\n",
      "        format)\n",
      "    use_residue_map : boolean, optional, default=True\n",
      "        Store atomtyped topologies of residues to a dictionary that maps\n",
      "        them to residue names.  Each topology, including atomtypes, will be\n",
      "        copied to other residues with the same name. This avoids repeatedly\n",
      "        calling the subgraph isomorphism on idential residues and should\n",
      "        result in better performance for systems with many identical\n",
      "        residues, i.e. a box of water. Note that for this to be applied to\n",
      "        independent molecules, they must each be saved as different\n",
      "        residues in the topology.\n",
      "    assert_bond_params : bool, optional, default=True\n",
      "        If True, Foyer will exit if parameters are not found for all system\n",
      "        bonds.\n",
      "    assert_angle_params : bool, optional, default=True\n",
      "        If True, Foyer will exit if parameters are not found for all system\n",
      "        angles.\n",
      "    assert_dihedral_params : bool, optional, default=True\n",
      "        If True, Foyer will exit if parameters are not found for all system\n",
      "        proper dihedrals.\n",
      "    assert_improper_params : bool, optional, default=False\n",
      "        If True, Foyer will exit if parameters are not found for all system\n",
      "        improper dihedrals.\n",
      "    combining_rule : str, optional, default='geometric'\n",
      "        The combining rule of the system, stored as an attribute of the\n",
      "        ParmEd structure. Accepted arguments are `geometric` and `lorentz`.\n",
      "    verbose : bool, optional, default=False\n",
      "        If True, Foyer will print debug-level information about notable or\n",
      "        potentially problematic details it encounters.\n",
      "\n"
     ]
    }
   ],
   "source": [
    "test_forcefield_path = \"../switchable_interfaces/atools/atools/forcefields/edited.xml\"\n",
    "opls = foyer.Forcefield(forcefield_files=[test_forcefield_path])\n",
    "help(opls.apply)"
   ]
  },
  {
   "cell_type": "code",
   "execution_count": null,
   "metadata": {},
   "outputs": [],
   "source": []
  }
 ],
 "metadata": {
  "kernelspec": {
   "display_name": "Python 3",
   "language": "python",
   "name": "python3"
  },
  "language_info": {
   "codemirror_mode": {
    "name": "ipython",
    "version": 3
   },
   "file_extension": ".py",
   "mimetype": "text/x-python",
   "name": "python",
   "nbconvert_exporter": "python",
   "pygments_lexer": "ipython3",
   "version": "3.6.10"
  }
 },
 "nbformat": 4,
 "nbformat_minor": 4
}
